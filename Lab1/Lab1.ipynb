{
 "cells": [
  {
   "cell_type": "markdown",
   "metadata": {},
   "source": [
    "## Exercize 2.1"
   ]
  },
  {
   "cell_type": "code",
   "execution_count": null,
   "metadata": {
    "pycharm": {
     "is_executing": false
    }
   },
   "outputs": [],
   "source": [
    "# 1\n",
    "\n",
    "import csv\n",
    "\n",
    "rows = []\n",
    "\n",
    "with open(\"./iris.data\") as f:\n",
    "    for cols in csv.reader(f):\n",
    "        if len(cols) == 5:\n",
    "            tmp = []\n",
    "            tmp = [float(cols[0]), float(cols[1]), float(cols[2]), float(cols[3]), cols[4]]\n",
    "            rows.append(tmp)\n",
    "            #print(tmp)\n",
    "#print(rows)"
   ]
  },
  {
   "cell_type": "code",
   "execution_count": null,
   "metadata": {
    "pycharm": {
     "is_executing": false
    }
   },
   "outputs": [],
   "source": [
    "# 2\n",
    "\n",
    "from math import sqrt\n",
    "\n",
    "means = [0, 0, 0, 0]\n",
    "std_deviation = [0, 0, 0, 0]\n",
    "measurements_len = len(rows)\n",
    "print(measurements_len)\n",
    "\n",
    "for row in rows:\n",
    "    means[0] += row[0]\n",
    "    means[1] += row[1]\n",
    "    means[2] += row[2]\n",
    "    means[3] += row[3]\n",
    "\n",
    "print(\"Mean:\")\n",
    "means = list(map(lambda x: x/measurements_len, means))\n",
    "print(means)\n",
    "print(\"---------\")\n",
    "\n",
    "for row in rows:\n",
    "    std_deviation[0] += (row[0] - means[0])**2\n",
    "    std_deviation[1] += (row[1] - means[1])**2\n",
    "    std_deviation[2] += (row[2] - means[2])**2\n",
    "    std_deviation[3] += (row[3] - means[3])**2\n",
    "\n",
    "\n",
    "print(\"Std deviation:\")\n",
    "std_deviation = list(map(lambda x: sqrt(x/measurements_len), std_deviation))\n",
    "print(std_deviation)\n",
    "\n"
   ]
  },
  {
   "cell_type": "code",
   "execution_count": null,
   "metadata": {
    "pycharm": {
     "is_executing": false
    },
    "scrolled": true
   },
   "outputs": [],
   "source": [
    "# 3\n",
    "\n",
    "iris_versicolor = list(filter(lambda x: x[4]=='Iris-versicolor', rows))\n",
    "iris_setosa = list(filter(lambda x: x[4]=='Iris-setosa', rows))\n",
    "iris_virginica = list(filter(lambda x: x[4]=='Iris-Virginica', rows))\n",
    "\n",
    "versicolor_mean = [0, 0, 0, 0]\n",
    "setosa_mean = [0, 0, 0, 0]\n",
    "virginica_mean = [0, 0, 0, 0]\n",
    "\n",
    "versicolor_std = [0, 0, 0, 0]\n",
    "setosa_std = [0, 0, 0, 0]\n",
    "virginica_std = [0, 0, 0, 0]\n",
    "\n",
    "count = [0, 0, 0]\n",
    "\n",
    "for row in rows:\n",
    "    if row[4] == 'Iris-versicolor':\n",
    "        versicolor_mean[0] += row[0]\n",
    "        versicolor_mean[1] += row[1]\n",
    "        versicolor_mean[2] += row[2]\n",
    "        versicolor_mean[3] += row[3]\n",
    "        \n",
    "        count[0] += 1\n",
    "            \n",
    "    if row[4] == 'Iris-setosa':\n",
    "        setosa_mean[0] += row[0]\n",
    "        setosa_mean[1] += row[1]\n",
    "        setosa_mean[2] += row[2]\n",
    "        setosa_mean[3] += row[3]\n",
    "        \n",
    "        count[1] += 1\n",
    "        \n",
    "    if row[4] == 'Iris-virginica':\n",
    "        virginica_mean[0] += row[0]\n",
    "        virginica_mean[1] += row[1]\n",
    "        virginica_mean[2] += row[2]\n",
    "        virginica_mean[3] += row[3]\n",
    "        \n",
    "        count[2] += 1\n",
    "        \n",
    "\n",
    "print(\"Mean: \")\n",
    "versicolor_mean = list(map(lambda x: x/count[0], versicolor_mean))\n",
    "print(f\"versicolor_mean: {versicolor_mean}\")\n",
    "\n",
    "setosa_mean = list(map(lambda x: x/count[1], setosa_mean))\n",
    "print(f\"setosa_mean: {setosa_mean}\")\n",
    "\n",
    "virginica_mean = list(map(lambda x: x/count[2], virginica_mean))\n",
    "print(f\"virginica_mean: {virginica_mean}\")\n",
    "print(\"------------\")\n",
    "\n",
    "\n",
    "\n",
    "for row in rows:\n",
    "    if row[4] == 'Iris-versicolor':\n",
    "        versicolor_std[0] += (row[0] - versicolor_mean[0])**2\n",
    "        versicolor_std[1] += (row[1] - versicolor_mean[1])**2\n",
    "        versicolor_std[2] += (row[2] - versicolor_mean[2])**2\n",
    "        versicolor_std[3] += (row[3] - versicolor_mean[3])**2\n",
    "            \n",
    "    if row[4] == 'Iris-setosa':\n",
    "        setosa_std[0] += (row[0] - setosa_mean[0])**2\n",
    "        setosa_std[1] += (row[1] - setosa_mean[1])**2\n",
    "        setosa_std[2] += (row[2] - setosa_mean[2])**2\n",
    "        setosa_std[3] += (row[3] - setosa_mean[3])**2\n",
    "        \n",
    "    if row[4] == 'Iris-virginica':\n",
    "        virginica_std[0] += (row[0] - virginica_mean[0])**2\n",
    "        virginica_std[1] += (row[1] - virginica_mean[1])**2\n",
    "        virginica_std[2] += (row[2] - virginica_mean[2])**2\n",
    "        virginica_std[3] += (row[3] - virginica_mean[3])**2\n",
    "\n",
    "        \n",
    "print(\"Std deviation: \")\n",
    "versicolor_std = list(map(lambda x: sqrt(x/count[0]), versicolor_std))\n",
    "print(f\"versicolor_std: {versicolor_std}\")\n",
    "\n",
    "setosa_std = list(map(lambda x: sqrt(x/count[1]), setosa_std))\n",
    "print(f\"setosa_std: {setosa_std}\")\n",
    "\n",
    "virginica_std = list(map(lambda x: sqrt(x/count[2]), virginica_std))\n",
    "print(f\"virginica_std: {virginica_std}\")\n"
   ]
  },
  {
   "cell_type": "code",
   "execution_count": null,
   "metadata": {
    "pycharm": {
     "is_executing": false
    }
   },
   "outputs": [],
   "source": [
    "# 4 optional #5 optional\n",
    "\n",
    "test_iris = []\n",
    "\n",
    "with open(\"./iris_test.csv\") as f:\n",
    "    for row in csv.reader(f):\n",
    "        row = [float(x) for x in row]\n",
    "        test_iris.append(row)\n",
    "\n",
    "        \n",
    "#print(test_iris)\n",
    "test_len = len(test_iris)\n",
    "\n",
    "'''\n",
    "for i,row in enumerate(test_iris):\n",
    "    std1 = [abs(x-y) for x,y in zip(row,versicolor_mean)]\n",
    "    std1 = sum(std1)\n",
    "    \n",
    "    std2 = [abs(x-y) for x,y in zip(row,setosa_mean)]\n",
    "    std2 = sum(std2)\n",
    "    \n",
    "    std3 = [abs(x-y) for x,y in zip(row,virginica_mean)]\n",
    "    std3 = sum(std3)\n",
    "\n",
    "    m = min(std1,std2,std3)\n",
    "    \n",
    "    if m == std1:\n",
    "        print(f\"The species of the row {i} is versicolor_mean\")\n",
    "    elif m == std2:\n",
    "        print(f\"The species of the row {i} is setosa_mean\")\n",
    "    else:\n",
    "        print(f\"The species of the row {i} is virginica_mean\")\n",
    "'''\n",
    "\n",
    "e1 = [0] * test_len\n",
    "e2 = [0] * test_len\n",
    "e3 = [0] * test_len\n",
    "\n",
    "def euclidean_distance(vect1,vect2):\n",
    "    sum = 0\n",
    "    \n",
    "    for elem1, elem2 in zip(vect1, vect2):\n",
    "        sum += (elem1-elem2)**2\n",
    "        \n",
    "    return sqrt(sum)\n",
    "\n",
    "e1[0] = euclidean_distance(test_iris[0], versicolor_mean)\n",
    "e2[0] = euclidean_distance(test_iris[0], setosa_mean)\n",
    "e3[0] = euclidean_distance(test_iris[0], virginica_mean)\n",
    "\n",
    "e1[1] = euclidean_distance(test_iris[1], versicolor_mean)\n",
    "e2[1] = euclidean_distance(test_iris[1], setosa_mean)\n",
    "e3[1] = euclidean_distance(test_iris[1], virginica_mean)\n",
    "\n",
    "e1[2] = euclidean_distance(test_iris[2], versicolor_mean)\n",
    "e2[2] = euclidean_distance(test_iris[2], setosa_mean)\n",
    "e3[2] = euclidean_distance(test_iris[2], virginica_mean)\n",
    "\n",
    "\n",
    "\n",
    "for i in range(test_len):\n",
    "    euclidean = min(e1[i], e2[i], e3[i])\n",
    "\n",
    "    if euclidean == e1[i]:\n",
    "        print(\"the {i} row is versicolor\")\n",
    "    elif euclidean == e2[i]:\n",
    "        print(\"the {i} row is setosa\")\n",
    "    else:\n",
    "        print(\"the {i} row is virginica\")\n",
    "\n",
    "\n",
    "\n",
    "\n"
   ]
  },
  {
   "cell_type": "markdown",
   "metadata": {},
   "source": [
    "## Exercize 2.2"
   ]
  },
  {
   "cell_type": "code",
   "execution_count": null,
   "metadata": {
    "pycharm": {
     "is_executing": false
    }
   },
   "outputs": [],
   "source": [
    "# 1 and #2\n",
    "\n",
    "import json\n",
    "\n",
    "dict = {}\n",
    "\n",
    "with open(\"to-bike.json\") as f:\n",
    "    dict = json.load(f)\n",
    "    #print(dict)\n",
    "\n",
    "\n",
    "stations = dict['network']['stations']\n",
    "\n",
    "counter = 0\n",
    "\n",
    "for station in stations:\n",
    "    if station['extra']['status'] == 'online':\n",
    "        counter += 1\n",
    "\n",
    "print(counter)\n",
    "#print(stations)"
   ]
  },
  {
   "cell_type": "code",
   "execution_count": null,
   "metadata": {
    "pycharm": {
     "is_executing": false
    }
   },
   "outputs": [],
   "source": [
    "# 3\n",
    "\n",
    "n_free_bikes = 0\n",
    "n_free_docks = 0\n",
    "\n",
    "n_free_bikes = sum(station['free_bikes'] for station in stations)\n",
    "n_free_docks = sum(station['empty_slots'] for station in stations)\n",
    "\n",
    "print(f\"Number of avaiable bikes: {n_free_bikes}\")\n",
    "print(f\"Number of avaiable docks: {n_free_docks}\")"
   ]
  },
  {
   "cell_type": "code",
   "execution_count": null,
   "metadata": {
    "pycharm": {
     "is_executing": false
    }
   },
   "outputs": [],
   "source": [
    "# 4 optional\n",
    "from math import cos, acos, sin\n",
    "\n",
    "def distance_coords(lat1, lng1, lat2, lng2):\n",
    "    \"\"\"Compute the distance among two points.\"\"\"\n",
    "    deg2rad = lambda x: x * 3.141592 / 180\n",
    "    lat1, lng1, lat2, lng2 = map(deg2rad, [ lat1, lng1, lat2, lng2 ])\n",
    "    R = 6378100 # Radius of the Earth, in meters\n",
    "    return R * acos(sin(lat1) * sin(lat2) + cos(lat1) * cos(lat2) * cos(lng1 - lng2))\n",
    "\n",
    "latitude, longitude = 45.074512, 7.694419 \n",
    "\n",
    "distance_stations = []\n",
    "minimum = [0, None]\n",
    "\n",
    "for station in stations:\n",
    "    distance = distance_coords(latitude, longitude, station['latitude'], station['longitude'])\n",
    "    if station['free_bikes'] and (distance < minimum[0] or minimum[1] == None):\n",
    "        minimum[0] = distance\n",
    "        minimum[1] = station\n",
    "    \n",
    "#print(distance_stations)\n",
    "\n",
    "print(f\"The station with the minimum distance is: {minimum[1]['name']}\",\n",
    "      f\"with a distance of {minimum[0]}\")"
   ]
  },
  {
   "cell_type": "code",
   "execution_count": null,
   "metadata": {
    "pycharm": {
     "is_executing": false
    },
    "scrolled": true
   },
   "outputs": [],
   "source": [
    "def distance_from_point_2(dataset, lat, lng):\n",
    "    v = [ (s, distance_coords(lat, lng, s[\"latitude\"], s[\"longitude\"])) for s in stations if s[\"free_bikes\"] > 0 ]\n",
    "    return min(v, key=lambda w: w[1])\n",
    "\n",
    "station, distance = distance_from_point_2(stations, 45.074512, 7.694419)\n",
    "print(\"Closest station:\", station[\"name\"])\n",
    "print(\"Distance:\", distance, \"meters\")\n",
    "print(\"Number of available bikes:\", station[\"free_bikes\"])"
   ]
  },
  {
   "cell_type": "markdown",
   "metadata": {},
   "source": [
    "## Execize 2.3"
   ]
  },
  {
   "cell_type": "code",
   "execution_count": 28,
   "metadata": {
    "pycharm": {
     "is_executing": false
    },
    "scrolled": false
   },
   "outputs": [
    {
     "name": "stdout",
     "output_type": "stream",
     "text": [
      "                            \n",
      "                            \n",
      "                            \n",
      "                            \n",
      "                            \n",
      "              .#      **    \n",
      "             .##..*#####    \n",
      "            #########*.     \n",
      "           #####***.        \n",
      "          ##*               \n",
      "         *##                \n",
      "         ##                 \n",
      "        .##                 \n",
      "         ###*               \n",
      "         .#####.            \n",
      "            *###*           \n",
      "              *###*         \n",
      "                ###         \n",
      "                .##         \n",
      "                ###         \n",
      "              .###          \n",
      "        .    *###.          \n",
      "       .# .*###*            \n",
      "       .######.             \n",
      "        *##*.               \n",
      "                            \n",
      "                            \n",
      "                            \n"
     ]
    }
   ],
   "source": [
    "# 1 and #2\n",
    "\n",
    "digits = []\n",
    "\n",
    "with open(\"./mnist_test.csv\") as f:\n",
    "    for row in csv.reader(f):\n",
    "        digit = {'digit': row[0], 'values': row[1:]}\n",
    "        digits.append(digit)\n",
    "\n",
    "# Print values of first row\n",
    "#print(digits[0]['values'][:])\n",
    "\n",
    "    \n",
    "def getDigit(data_set, number_of_row):\n",
    "    matrix_length = int(sqrt(len(data_set[number_of_row]['values'])))\n",
    "    printable = []\n",
    "    start = 0\n",
    "    finish = matrix_length\n",
    "    \n",
    "    printable = list(map(lambda x: \" \" if 0<=int(x)<64 else (\".\" if 64<=int(x)<128 else (\n",
    "    \"*\" if 128<=int(x)<192 else \"#\")),data_set[number_of_row]['values']))\n",
    "    \n",
    "    # Print as a 28x28 matrix   \n",
    "    for i in range(matrix_length):\n",
    "        #printable[406] = 'w'    #for debug to see the max_difference, see #5 optional\n",
    "        print(*printable[start:finish], sep = '')\n",
    "        start += matrix_length\n",
    "        finish += matrix_length\n",
    "        \n",
    "\n",
    "\n",
    "getDigit(digits,129)"
   ]
  },
  {
   "cell_type": "code",
   "execution_count": null,
   "metadata": {
    "pycharm": {
     "is_executing": false
    }
   },
   "outputs": [],
   "source": [
    "# 3\n",
    "\n",
    "def euclidean_dist(x, y):\n",
    "    return sum([ (int(x_i) - int(y_i)) ** 2 for x_i, y_i in zip(x, y) ]) ** 0.5\n",
    "\n",
    "positions = [ 25, 29, 31, 34 ]\n",
    "\n",
    "for i in range(len(positions)):\n",
    "    for j in range(i+1, len(positions)):\n",
    "        a = positions[i]\n",
    "        b = positions[j]\n",
    "        print(a, b, euclidean_dist(digits[a]['values'], digits[b]['values']))"
   ]
  },
  {
   "cell_type": "code",
   "execution_count": 33,
   "metadata": {},
   "outputs": [
    {
     "name": "stdout",
     "output_type": "stream",
     "text": [
      "['0', '1', '1', '7']\n"
     ]
    }
   ],
   "source": [
    "# 4 optional\n",
    "\n",
    "values = [digits[i]['digit'] for i in positions]\n",
    "\n",
    "print(values)"
   ]
  },
  {
   "cell_type": "code",
   "execution_count": 56,
   "metadata": {
    "pycharm": {
     "is_executing": false
    }
   },
   "outputs": [
    {
     "name": "stdout",
     "output_type": "stream",
     "text": [
      "Number of 1: 1135\n",
      "Number of 0: 980\n",
      "max_distance is: 1113\n",
      "The index of max_distance is: 406\n",
      "The grid index of max_distance is: [14][14]\n"
     ]
    },
    {
     "data": {
      "text/plain": [
       "\"\\n# the number of ones and zeros isn't equal, it's better to normalize the differences\\ndiff_norm = [ abs(z / Z_count - o / O_count) for z,o in zip (Z,O) ] argmax(diff_norm)\\n\""
      ]
     },
     "execution_count": 56,
     "metadata": {},
     "output_type": "execute_result"
    }
   ],
   "source": [
    "# 5 optional\n",
    "c_z = 0\n",
    "c_o = 0\n",
    "\n",
    "n = 784\n",
    "\n",
    "c_o = sum(int(digit['digit']) == 1 for digit in digits)\n",
    "print(f\"Number of 1: {c_o}\")\n",
    "\n",
    "c_z = sum(int(digit['digit']) == 0 for digit in digits)\n",
    "print(f\"Number of 0: {c_z}\")\n",
    "\n",
    "zero = [0] * n\n",
    "one = [0] * n\n",
    "\n",
    "for digit in digits:\n",
    "    if int(digit['digit']) == 0:\n",
    "        for i, pixel in enumerate(digit['values']):\n",
    "            if int(pixel) >= 128:\n",
    "                zero[i] += 1\n",
    "    elif int(digit['digit']) == 1:\n",
    "        for i, pixel in enumerate(digit['values']):\n",
    "            if int(pixel) >= 128:\n",
    "                one[i] += 1\n",
    "                \n",
    "\n",
    "distances = [abs(zero[i] - one[i]) for i in range(n)]\n",
    "                \n",
    "'''\n",
    "# enumerates the distances vector -> i, distance[i] and\n",
    "# compares x[1] (x = (i, distance[i]) -> x[1] = distance[i]) and\n",
    "# returns the index ([0] at the end) \n",
    "\n",
    "def argmax(w):\n",
    "    return max(enumerate(w), key=lambda x: x[1])[0]\n",
    "print(argmax(distances))\n",
    "'''\n",
    "    \n",
    "max_distance = max(distances)\n",
    "index_max_distance = distances.index(max_distance)\n",
    "\n",
    "print(f\"max_distance is: {max_distance}\")\n",
    "print(f\"The index of max_distance is: {index_max_distance}\")\n",
    "print(f\"The grid index of max_distance is: [{int(index_max_distance/28)}][{index_max_distance%28}]\")\n",
    "\n",
    "'''\n",
    "# the number of ones and zeros isn't equal, it's better to normalize the differences\n",
    "diff_norm = [ abs(z / Z_count - o / O_count) for z,o in zip (Z,O) ] argmax(diff_norm)\n",
    "'''"
   ]
  },
  {
   "cell_type": "markdown",
   "metadata": {},
   "source": [
    "It's at the center of the grid because the symbol *1* have a line of black pixels passing from that point and *0* have an empty space"
   ]
  }
 ],
 "metadata": {
  "kernelspec": {
   "display_name": "Python 3",
   "language": "python",
   "name": "python3"
  },
  "pycharm": {
   "stem_cell": {
    "cell_type": "raw",
    "metadata": {
     "collapsed": false
    },
    "source": []
   }
  }
 },
 "nbformat": 4,
 "nbformat_minor": 2
}
